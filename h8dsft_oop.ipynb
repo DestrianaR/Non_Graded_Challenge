{
 "cells": [
  {
   "cell_type": "markdown",
   "metadata": {},
   "source": [
    "### Task\n",
    "Create a library catalog system using OOP. The system should allow users to add books to the catalog, search for books by title or author, and remove books from the catalog.<br>\n",
    "<br>\n",
    "Requirements:<br>\n",
    "\n",
    "1.  Each book should have a title, author, and unique identifier\n",
    "2.  The system should provide the following functionality:<br>\n",
    "    ●Adding a book to the catalog.<br>\n",
    "    ●Searching for books by title or author.<br>\n",
    "    ●Removing a book from the catalog.<br>\n",
    "    ●Displaying all books in the catalog.<br>\n",
    "3. Do the exception handling\n"
   ]
  },
  {
   "cell_type": "code",
   "execution_count": 86,
   "metadata": {},
   "outputs": [
    {
     "name": "stdout",
     "output_type": "stream",
     "text": [
      "('Math', 'George Harr', '0594805888')\n",
      "[('Geometry', 'Jeff Potter', '0596805888'), ('Math', 'George Harr', '0594805888'), ('English', 'James Odd', '0596225888')]\n"
     ]
    }
   ],
   "source": [
    "class BookCatalog:\n",
    "    # List of books in the catalog\n",
    "    books = []\n",
    "    def __init__(self, title, author, identifier):\n",
    "        self.title = title\n",
    "        self.author = author\n",
    "        self.identifier = identifier\n",
    "    \n",
    "    # Function to add a book to the catalog\n",
    "    def addBook(self):\n",
    "        if BookCatalog.books == []: \n",
    "            BookCatalog.books.append((self.title, self.author, self.identifier))\n",
    "        else:\n",
    "            for book in BookCatalog.books: \n",
    "                if book[2] == self.identifier: \n",
    "                    raise ValueError(f\"Book with ID {self.identifier} already exists\")\n",
    "\n",
    "            BookCatalog.books.append((self.title, self.author, self.identifier)) \n",
    "    \n",
    "    # Function to search a book in catalog   \n",
    "    def searchBook(self, keysearch):\n",
    "        if BookCatalog.books == []:\n",
    "            raise ValueError(\"Book catalog is empty\")\n",
    "        else:\n",
    "            for book in BookCatalog.books:\n",
    "                for bookIdentity in book:\n",
    "                    if bookIdentity.lower() == keysearch.lower():\n",
    "                        return book\n",
    "                    \n",
    "            raise ValueError(\"This book is not found in the catalog\")\n",
    "    \n",
    "    # Function to remove a book from the catalog          \n",
    "    def removeBook(self, title):\n",
    "        if BookCatalog.books == []:\n",
    "            raise ValueError(\"Book catalog is empty\")\n",
    "        else:\n",
    "            for book in BookCatalog.books:\n",
    "                for bookIdentity in book:\n",
    "                    if bookIdentity.lower() == title.lower():\n",
    "                        BookCatalog.books.remove(book)\n",
    "                        \n",
    "            raise ValueError(\"This book is not found in the catalog\")\n",
    "    \n",
    "    # Function to show a book in catalog\n",
    "    def showCatalog(self):\n",
    "        if BookCatalog.books == []:\n",
    "            raise ValueError(\"Book catalog is empty\")\n",
    "        return BookCatalog.books\n",
    "                    \n",
    "book1 = BookCatalog('Geometry', 'Jeff Potter', '0596805888')\n",
    "book2 = BookCatalog('Math', 'George Harr', '0594805888')\n",
    "book3 = BookCatalog('English', 'James Odd', '0596225888')\n",
    "\n",
    "book1.addBook()\n",
    "book2.addBook()\n",
    "book3.addBook()\n",
    "\n",
    "# Search book using lower case letters\n",
    "print(book3.searchBook('math'))\n",
    "\n",
    "print(book3.showCatalog())"
   ]
  },
  {
   "cell_type": "code",
   "execution_count": 87,
   "metadata": {},
   "outputs": [
    {
     "name": "stdout",
     "output_type": "stream",
     "text": [
      "Error: Book with ID 0596805888 already exists\n"
     ]
    }
   ],
   "source": [
    "    \n",
    "try:\n",
    "    book1 = BookCatalog('Geometry', 'Jeff Potter', '0596805888')\n",
    "    book2 = BookCatalog('Math', 'George Harr', '0594805888')\n",
    "    book3 = BookCatalog('English', 'James Odd', '0596225888')\n",
    "\n",
    "    book1.addBook()\n",
    "    book2.addBook()\n",
    "    book3.addBook()\n",
    "\n",
    "    print(book3.showCatalog())\n",
    "\n",
    "    # Try to add a book with a duplicate identifier\n",
    "    duplicate_book = BookCatalog('Duplicate', 'Author', '0596805888')\n",
    "    duplicate_book.addBook()\n",
    "\n",
    "    # Try to search for a non-existing book\n",
    "    non_existing_book = BookCatalog('NonExisting', 'Author', '1234567890')\n",
    "    non_existing_book.searchBook('NonExisting')\n",
    "\n",
    "    # Try to remove a non-existing book\n",
    "    non_existing_book.removeBook('NonExisting')\n",
    "\n",
    "except ValueError as e:\n",
    "    print(f\"Error: {e}\")"
   ]
  },
  {
   "cell_type": "code",
   "execution_count": null,
   "metadata": {},
   "outputs": [],
   "source": []
  }
 ],
 "metadata": {
  "kernelspec": {
   "display_name": "base",
   "language": "python",
   "name": "python3"
  },
  "language_info": {
   "codemirror_mode": {
    "name": "ipython",
    "version": 3
   },
   "file_extension": ".py",
   "mimetype": "text/x-python",
   "name": "python",
   "nbconvert_exporter": "python",
   "pygments_lexer": "ipython3",
   "version": "3.9.13"
  }
 },
 "nbformat": 4,
 "nbformat_minor": 2
}
