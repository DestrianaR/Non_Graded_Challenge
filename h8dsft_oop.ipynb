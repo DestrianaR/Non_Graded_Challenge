{
 "cells": [
  {
   "cell_type": "markdown",
   "metadata": {},
   "source": [
    "### Task\n",
    "Create a library catalog system using OOP. The system should allow users to add books to the catalog, search for books by title or author, and remove books from the catalog.<br>\n",
    "<br>\n",
    "Requirements:<br>\n",
    "\n",
    "1.  Each book should have a title, author, and unique identifier\n",
    "2.  The system should provide the following functionality:<br>\n",
    "    ●Adding a book to the catalog.<br>\n",
    "    ●Searching for books by title or author.<br>\n",
    "    ●Removing a book from the catalog.<br>\n",
    "    ●Displaying all books in the catalog.<br>\n",
    "3. Do the exception handling\n"
   ]
  },
  {
   "cell_type": "code",
   "execution_count": 51,
   "metadata": {},
   "outputs": [
    {
     "data": {
      "text/plain": [
       "[('Geometry', 'Jeff Potter', '0596805888'),\n",
       " ('Math', 'George Harr', '0594805888'),\n",
       " ('English', 'James Odd', '0596225888')]"
      ]
     },
     "execution_count": 51,
     "metadata": {},
     "output_type": "execute_result"
    }
   ],
   "source": [
    "class BookCatalog:\n",
    "    books = []\n",
    "    def __init__(self, title, author, identifier):\n",
    "        self.title = title\n",
    "        self.author = author\n",
    "        self.identifier = identifier\n",
    "        \n",
    "    def addBook(self):\n",
    "        if BookCatalog.books == []:\n",
    "            BookCatalog.books.append((self.title, self.author, self.identifier))\n",
    "        else:\n",
    "            BookCatalog.books.append((self.title, self.author, self.identifier))\n",
    "            \n",
    "    def searchBook(self, keysearch):\n",
    "        for book in BookCatalog.books:\n",
    "            for i in book:\n",
    "                if i == keysearch:\n",
    "                    return book\n",
    "\n",
    "                    \n",
    "    def removeBook(self, title):\n",
    "        for book in BookCatalog.books:\n",
    "            for i in book:\n",
    "                if i == title:\n",
    "                    BookCatalog.books.remove(book)\n",
    "                    \n",
    "    def showCatalog(self):\n",
    "        return BookCatalog.books\n",
    "                    \n",
    "    \n",
    "        \n",
    "            \n",
    "book1 = BookCatalog('Geometry', 'Jeff Potter', '0596805888')\n",
    "book2 = BookCatalog('Math', 'George Harr', '0594805888')\n",
    "book3 = BookCatalog('English', 'James Odd', '0596225888')\n",
    "book1.addBook()\n",
    "book2.addBook()\n",
    "book3.addBook()\n",
    "\n",
    "book3.showCatalog()\n",
    "\n",
    "        "
   ]
  },
  {
   "cell_type": "code",
   "execution_count": null,
   "metadata": {},
   "outputs": [],
   "source": []
  }
 ],
 "metadata": {
  "kernelspec": {
   "display_name": "base",
   "language": "python",
   "name": "python3"
  },
  "language_info": {
   "codemirror_mode": {
    "name": "ipython",
    "version": 3
   },
   "file_extension": ".py",
   "mimetype": "text/x-python",
   "name": "python",
   "nbconvert_exporter": "python",
   "pygments_lexer": "ipython3",
   "version": "3.9.13"
  }
 },
 "nbformat": 4,
 "nbformat_minor": 2
}
