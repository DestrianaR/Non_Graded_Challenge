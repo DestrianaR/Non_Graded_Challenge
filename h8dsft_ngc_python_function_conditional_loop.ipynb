{
 "cells": [
  {
   "cell_type": "markdown",
   "metadata": {},
   "source": [
    "### Task 1 - Number of Word\n",
    "Create a function that count the number of word in a sentence.<br>\n",
    "Instruction:<br>\n",
    "1. Create function called `number_of_word`.<br>\n",
    "2. This function takes 1 input, `sentence`.<br>\n",
    "3. Inside this function, you can utilize `.split()` method to split the sentence into list of word(s).<br>\n",
    "4. Also, `len()` function to count the element inside a list.<br>\n",
    "5. Return the number of word from the sentence.<br>\n",
    "<br>\n",
    "Example<br>\n",
    "- input : number_of_word (sentence = 'Hello World!')<br>\n",
    "- output : 2 <br>\n",
    "<br>\n",
    "- input :number_of_words (sentence = 'Once Upon a Time in a faraway land')<br>\n",
    "- output : 8 <br>"
   ]
  },
  {
   "cell_type": "code",
   "execution_count": 4,
   "metadata": {},
   "outputs": [
    {
     "name": "stdout",
     "output_type": "stream",
     "text": [
      "2\n",
      "8\n"
     ]
    }
   ],
   "source": [
    "def number_of_word(sentence):\n",
    "    list_of_words = sentence.split()\n",
    "    return len(list_of_words)\n",
    "\n",
    "print(number_of_word('Hello World!'))\n",
    "print(number_of_word('Once Upon a Time in a faraway land'))"
   ]
  },
  {
   "cell_type": "markdown",
   "metadata": {},
   "source": [
    "### Task 2 - Find Multiple\n",
    "Create a function that will get list of number(s) from a certain range that multiples of given number.<br>\n",
    "Instruction:<br>\n",
    "1. Create function called `find_multiples`. <br>\n",
    "2. This function takes 3 input:  `start_range`, `end_range`, and `multiple`. <br>\n",
    "3. From every number within the given range, check if that number is the mutliples of `multiple`.<br>\n",
    "4. Return list of the possible multiple number(s).<br>\n",
    "<br>\n",
    "Example:<br>\n",
    "- input :find_multiple(start_range =1, end_range =20, multiple = 5)<br>\n",
    "- output :[5,10,15,20]<br>\n",
    "<br>\n",
    "- input :find_multiple(start_range=1, end_range=50, multiple=10)<br>\n",
    "- output:[10,20,30,40,50]<br>\n"
   ]
  },
  {
   "cell_type": "code",
   "execution_count": 11,
   "metadata": {},
   "outputs": [
    {
     "name": "stdout",
     "output_type": "stream",
     "text": [
      "[5, 10, 15, 20]\n",
      "[10, 20, 30, 40, 50]\n"
     ]
    }
   ],
   "source": [
    "def find_multiple(start_range, end_range, multiple):\n",
    "    list_multiple_number = []\n",
    "    for i in range(start_range, end_range+1):\n",
    "        if i % multiple == 0:\n",
    "            list_multiple_number.append(i)\n",
    "    return list_multiple_number\n",
    "\n",
    "print(find_multiple(1,20,5))\n",
    "print(find_multiple(1,50,10))"
   ]
  },
  {
   "cell_type": "markdown",
   "metadata": {},
   "source": [
    "### Task 3 - Grade Converter\n",
    "Create a function that will convert student’s grade to GPA.<br>\n",
    "<br>\n",
    "Instruction:\n",
    "1. Create function called `Grade_Converter`.<br>\n",
    "2. This function takes input: `convert_to` and n-paired of student(s) name with its respective score.<br>\n",
    "3. Input argument for `convert_to` is either `letter_grade` or `gpa`.<br>\n",
    "4. You can utilize **kwargs input argument to generate n-length paired of student(s) name with its respective score (Dictionary).<br>\n",
    "5. This function will return dictionary of student's name along with converted Letter Grade or GPA, depending on user input in 'convert_to' parameter.<br>\n",
    "<br>\n",
    "Example:<br>\n",
    "- Input :Grade_converter(convert_to='gpa', Adam=62,\n",
    "Faiz=91)<br>\n",
    "- Output :{'Adam': 2.5, 'Faiz':4}<br>\n",
    "<br>\n",
    "- Input :Grade_converter(convert_to='letter_grade', Albert=90, Dwi=82, Syahdan=58, Veronica=84)<br>\n",
    "- Output :{'Albert':'A', 'Dwi':'B', 'Syahdan':'D', 'Veronica':'B'}"
   ]
  },
  {
   "cell_type": "code",
   "execution_count": 3,
   "metadata": {},
   "outputs": [
    {
     "name": "stdout",
     "output_type": "stream",
     "text": [
      "{'Adam': 2.5, 'Faiz': 4}\n",
      "{'Albert': 'A', 'Dwi': 'B', 'Syahdan': 'D', 'Veronica': 'B'}\n"
     ]
    }
   ],
   "source": [
    "def Grade_Converter(convert_to, **student):\n",
    "    if convert_to == 'gpa':\n",
    "        name_and_gpa = {}\n",
    "        for name, grade in student.items():\n",
    "            if grade >= 85:\n",
    "                name_and_gpa[name] = 4\n",
    "            elif grade >= 70:\n",
    "                name_and_gpa[name] = 3\n",
    "            elif grade >= 60:\n",
    "                name_and_gpa[name] = 2.5\n",
    "            elif grade >= 50:\n",
    "                name_and_gpa[name] = 2\n",
    "            elif grade >= 40:\n",
    "                name_and_gpa[name] = 1.5\n",
    "            else:\n",
    "                name_and_gpa[name] = 1\n",
    "        return name_and_gpa\n",
    "    elif convert_to == 'letter_grade': \n",
    "        name_and_letter_grade= {}   \n",
    "        for name, grade in student.items():  \n",
    "            if grade >= 85:\n",
    "                name_and_letter_grade[name] = 'A'\n",
    "            elif grade >= 70:\n",
    "                name_and_letter_grade[name] = 'B'\n",
    "            elif grade >= 60:\n",
    "                name_and_letter_grade[name] = 'C'\n",
    "            elif grade >= 50:\n",
    "                name_and_letter_grade[name] = 'D'\n",
    "            elif grade >= 40:\n",
    "                name_and_letter_grade[name] = 'E'\n",
    "            else:\n",
    "                name_and_letter_grade[name] = 'F'\n",
    "        return name_and_letter_grade  \n",
    "    \n",
    "print(Grade_Converter(convert_to='gpa', Adam=62,Faiz=91))\n",
    "print(Grade_Converter(convert_to='letter_grade', Albert=90, Dwi=82, Syahdan=58, Veronica=84))"
   ]
  },
  {
   "cell_type": "markdown",
   "metadata": {},
   "source": [
    "### Task 4 - Fibonacci Sequence\n",
    "Fibonacci sequence is a sequence in which each number is the sum of the two preceding ones. Suppose we have fibonacci sequence started with:<br>\n",
    "<center>0, 1, 1, 2, 3, 5, ...</center>\n",
    "The next number should be 8 or sum of the two precedings, 3 and 5:<br>\n",
    "<center>0, 1, 1, 2, 3, 5, 8, ...</center>\n",
    "Then the next number should be 13 or sum of the two precedings, 5 and 8:<br>\n",
    "<center>0, 1, 1, 2, 3, 5, 8, 13, ...</center>\n",
    "And so on.<br>\n",
    "<br>\n",
    "create a function that will return the value of n-th fibonacci number.<br>\n",
    "Instruction:<br>\n",
    "\n",
    "1. The function will take 1 input parameter, n, represents the asked number from our fibonacci sequence index.<br>\n",
    "2.  The fibonacci sequence will start with the value of 0 and 1.<br>\n",
    "3.  This function will return the n-th value from fibonacci sequence.<br>\n",
    "<br>\n",
    "Example:<br>\n",
    "\n",
    "- Input:my_function(n=0)<br>\n",
    "- Output:0<br>\n",
    "<br>\n",
    "- Input:my_function(n=4)<br>\n",
    "- Output:3<br>\n",
    "<br>\n",
    "- Input:my_function(n=10)<br>\n",
    "- Output:55<br>"
   ]
  },
  {
   "cell_type": "code",
   "execution_count": 103,
   "metadata": {},
   "outputs": [
    {
     "name": "stdout",
     "output_type": "stream",
     "text": [
      "0\n",
      "3\n",
      "55\n"
     ]
    }
   ],
   "source": [
    "def my_function(n):\n",
    "    if n < 2:\n",
    "        return n\n",
    "    else :\n",
    "        fibb = [0,1]\n",
    "        for i in range(n-1):\n",
    "            fibb.append(fibb[i+1] + fibb[i])\n",
    "        return fibb[n]\n",
    "\n",
    "print(my_function(n=0))\n",
    "print(my_function(n=4))\n",
    "print(my_function(n=10))"
   ]
  }
 ],
 "metadata": {
  "kernelspec": {
   "display_name": "base",
   "language": "python",
   "name": "python3"
  },
  "language_info": {
   "codemirror_mode": {
    "name": "ipython",
    "version": 3
   },
   "file_extension": ".py",
   "mimetype": "text/x-python",
   "name": "python",
   "nbconvert_exporter": "python",
   "pygments_lexer": "ipython3",
   "version": "3.9.13"
  }
 },
 "nbformat": 4,
 "nbformat_minor": 2
}
